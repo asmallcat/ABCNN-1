{
 "cells": [
  {
   "cell_type": "markdown",
   "metadata": {},
   "source": [
    "# Imports"
   ]
  },
  {
   "cell_type": "code",
   "execution_count": 1,
   "metadata": {},
   "outputs": [],
   "source": [
    "# Add `src` directory to path (change this to your `src` directory)\n",
    "import sys\n",
    "sys.path.insert(0, \"/home/cody/abcnn/ABCNN/src\")"
   ]
  },
  {
   "cell_type": "code",
   "execution_count": 2,
   "metadata": {},
   "outputs": [],
   "source": [
    "# Import `standard` modules\n",
    "import os\n",
    "from torch.utils.data import TensorDataset\n",
    "\n",
    "# Import custom modules\n",
    "from setup import read_config\n",
    "from setup import setup\n",
    "from trainer.factories import loss_fn_factory\n",
    "from trainer.factories import optimizer_factory\n",
    "from trainer.factories import scheduler_factory\n",
    "from trainer.multiclass_classifier_trainer import MulticlassClassifierTrainer\n",
    "from trainer.utils import move_to_device\n",
    "from utils import abcnn_model_loader"
   ]
  },
  {
   "cell_type": "markdown",
   "metadata": {},
   "source": [
    "# Setup"
   ]
  },
  {
   "cell_type": "code",
   "execution_count": 3,
   "metadata": {},
   "outputs": [],
   "source": [
    "# Set the input values\n",
    "CONFIG_PATH = \"/home/cody/abcnn/ABCNN/src/config.yaml\"# path to configuration file\n",
    "TRAINSET = \"moveworks_train\"# name of training set (should be a key in data_paths)\n",
    "VALSET = \"moveworks_val\"# name of validation set (should be a key in data_paths)\n",
    "TESTSET = \"moveworks_test\"# name of test set (should be a key in data_paths)\n",
    "LOAD_PATH = None # load a model from a checkpoint file"
   ]
  },
  {
   "cell_type": "code",
   "execution_count": 4,
   "metadata": {},
   "outputs": [],
   "source": [
    "# Sanity check input values\n",
    "assert(os.path.isfile(CONFIG_PATH))\n",
    "assert(LOAD_PATH is None or os.path.isfile(LOAD_PATH))"
   ]
  },
  {
   "cell_type": "code",
   "execution_count": 5,
   "metadata": {},
   "outputs": [
    {
     "name": "stderr",
     "output_type": "stream",
     "text": [
      "moveworks_train: 100%|██████████| 7868/7868 [00:02<00:00, 2767.68it/s]\n",
      "moveworks_val: 100%|██████████| 438/438 [00:00<00:00, 2753.93it/s]\n",
      "moveworks_test: 100%|██████████| 437/437 [00:00<00:00, 2741.38it/s]\n"
     ]
    },
    {
     "name": "stdout",
     "output_type": "stream",
     "text": [
      "Loading FastText word vectors from: /home/cody/abcnn/embeddings/fasttext/tickets/word_vector_from_tickets_skipgram_dim300_subword_min2_max6.bin\n"
     ]
    },
    {
     "name": "stderr",
     "output_type": "stream",
     "text": [
      "embedding matrix: 100%|██████████| 2666/2666 [00:00<00:00, 125007.15it/s]\n"
     ]
    },
    {
     "name": "stdout",
     "output_type": "stream",
     "text": [
      "Creating the ABCNN model...\n"
     ]
    }
   ],
   "source": [
    "# Setup modules\n",
    "config = read_config(CONFIG_PATH)\n",
    "features, labels, model = setup(config[\"model\"])\n",
    "model = move_to_device(config[\"trainer\"][\"device\"], model) # hacky, but necessary for trainer\n",
    "datasets = {\n",
    "    name: TensorDataset(features[name], labels[name])\n",
    "    for name in features\n",
    "}\n",
    "loss_fn = loss_fn_factory(config[\"loss_fn\"])\n",
    "optimizer = optimizer_factory(config[\"optimizer\"], model.parameters())\n",
    "scheduler = scheduler_factory(config[\"scheduler\"], optimizer)\n",
    "trainer = MulticlassClassifierTrainer(config[\"trainer\"])\n",
    "if LOAD_PATH:\n",
    "    model, optimizer = abcnn_model_loader(LOAD, model, optimizer)"
   ]
  },
  {
   "cell_type": "markdown",
   "metadata": {},
   "source": [
    "# Train the model"
   ]
  },
  {
   "cell_type": "code",
   "execution_count": null,
   "metadata": {
    "scrolled": true
   },
   "outputs": [
    {
     "name": "stderr",
     "output_type": "stream",
     "text": [
      "epochs:   0%|          | 0/10 [00:00<?, ?it/s]\n",
      "train:   0%|          | 0/123 [00:00<?, ?it/s]\u001b[A/home/cody/.virtualenvs/abcnn/lib/python3.6/site-packages/torch/nn/functional.py:995: UserWarning: nn.functional.tanh is deprecated. Use torch.tanh instead.\n",
      "  warnings.warn(\"nn.functional.tanh is deprecated. Use torch.tanh instead.\")\n",
      "\n",
      "train:   1%|          | 1/123 [00:00<00:49,  2.47it/s]\u001b[A\n",
      "train:   2%|▏         | 2/123 [00:00<00:40,  2.97it/s]\u001b[A\n",
      "train:   2%|▏         | 3/123 [00:00<00:37,  3.21it/s]\u001b[A\n",
      "train:   3%|▎         | 4/123 [00:01<00:35,  3.34it/s]\u001b[A\n",
      "train:   4%|▍         | 5/123 [00:01<00:34,  3.43it/s]\u001b[A\n",
      "train:   5%|▍         | 6/123 [00:01<00:33,  3.49it/s]\u001b[A\n",
      "train:   6%|▌         | 7/123 [00:01<00:32,  3.54it/s]\u001b[A\n",
      "train:   7%|▋         | 8/123 [00:02<00:32,  3.56it/s]\u001b[A\n",
      "train:   7%|▋         | 9/123 [00:02<00:31,  3.59it/s]\u001b[A\n",
      "train:   8%|▊         | 10/123 [00:02<00:31,  3.61it/s]\u001b[A\n",
      "train:   9%|▉         | 11/123 [00:03<00:30,  3.63it/s]\u001b[A\n",
      "train:  10%|▉         | 12/123 [00:03<00:30,  3.64it/s]\u001b[A\n",
      "train:  11%|█         | 13/123 [00:03<00:30,  3.65it/s]\u001b[A\n",
      "train:  11%|█▏        | 14/123 [00:03<00:29,  3.66it/s]\u001b[A\n",
      "train:  12%|█▏        | 15/123 [00:04<00:29,  3.67it/s]\u001b[A\n",
      "train:  13%|█▎        | 16/123 [00:04<00:29,  3.68it/s]\u001b[A\n",
      "train:  14%|█▍        | 17/123 [00:04<00:28,  3.69it/s]\u001b[A\n",
      "train:  15%|█▍        | 18/123 [00:04<00:28,  3.69it/s]\u001b[A\n",
      "train:  15%|█▌        | 19/123 [00:05<00:28,  3.70it/s]\u001b[A\n",
      "train:  16%|█▋        | 20/123 [00:05<00:27,  3.70it/s]\u001b[A\n",
      "train:  17%|█▋        | 21/123 [00:05<00:27,  3.70it/s]\u001b[A\n",
      "train:  18%|█▊        | 22/123 [00:05<00:27,  3.71it/s]\u001b[A\n",
      "train:  19%|█▊        | 23/123 [00:06<00:26,  3.71it/s]\u001b[A\n",
      "train:  20%|█▉        | 24/123 [00:06<00:26,  3.71it/s]\u001b[A\n",
      "train:  20%|██        | 25/123 [00:06<00:26,  3.72it/s]\u001b[A\n",
      "train:  21%|██        | 26/123 [00:06<00:26,  3.72it/s]\u001b[A\n",
      "train:  22%|██▏       | 27/123 [00:07<00:25,  3.72it/s]\u001b[A\n",
      "train:  23%|██▎       | 28/123 [00:07<00:25,  3.72it/s]\u001b[A\n",
      "train:  24%|██▎       | 29/123 [00:07<00:25,  3.72it/s]\u001b[A\n",
      "train:  24%|██▍       | 30/123 [00:08<00:24,  3.73it/s]\u001b[A\n",
      "train:  25%|██▌       | 31/123 [00:08<00:24,  3.73it/s]\u001b[A\n",
      "train:  26%|██▌       | 32/123 [00:08<00:24,  3.73it/s]\u001b[A\n",
      "train:  27%|██▋       | 33/123 [00:08<00:24,  3.73it/s]\u001b[A\n",
      "train:  28%|██▊       | 34/123 [00:09<00:23,  3.73it/s]\u001b[A\n",
      "train:  28%|██▊       | 35/123 [00:09<00:23,  3.73it/s]\u001b[A\n",
      "train:  29%|██▉       | 36/123 [00:09<00:23,  3.74it/s]\u001b[A\n",
      "train:  30%|███       | 37/123 [00:09<00:23,  3.73it/s]\u001b[A\n",
      "train:  31%|███       | 38/123 [00:10<00:22,  3.73it/s]\u001b[A\n",
      "train:  32%|███▏      | 39/123 [00:10<00:22,  3.73it/s]\u001b[A\n",
      "train:  33%|███▎      | 40/123 [00:10<00:22,  3.73it/s]\u001b[A\n",
      "train:  33%|███▎      | 41/123 [00:10<00:21,  3.73it/s]\u001b[A\n",
      "train:  34%|███▍      | 42/123 [00:11<00:21,  3.73it/s]\u001b[A\n",
      "train:  35%|███▍      | 43/123 [00:11<00:21,  3.73it/s]\u001b[A\n",
      "train:  36%|███▌      | 44/123 [00:11<00:21,  3.74it/s]\u001b[A\n",
      "train:  37%|███▋      | 45/123 [00:12<00:20,  3.74it/s]\u001b[A\n",
      "train:  37%|███▋      | 46/123 [00:12<00:20,  3.74it/s]\u001b[A\n",
      "train:  38%|███▊      | 47/123 [00:12<00:20,  3.74it/s]\u001b[A\n",
      "train:  39%|███▉      | 48/123 [00:12<00:20,  3.74it/s]\u001b[A\n",
      "train:  40%|███▉      | 49/123 [00:13<00:19,  3.74it/s]\u001b[A\n",
      "train:  41%|████      | 50/123 [00:13<00:19,  3.74it/s]\u001b[A\n",
      "train:  41%|████▏     | 51/123 [00:13<00:19,  3.74it/s]\u001b[A\n",
      "train:  42%|████▏     | 52/123 [00:13<00:18,  3.74it/s]\u001b[A\n",
      "train:  43%|████▎     | 53/123 [00:14<00:18,  3.74it/s]\u001b[A\n",
      "train:  44%|████▍     | 54/123 [00:14<00:18,  3.74it/s]\u001b[A\n",
      "train:  45%|████▍     | 55/123 [00:14<00:18,  3.74it/s]\u001b[A\n",
      "train:  46%|████▌     | 56/123 [00:14<00:17,  3.74it/s]\u001b[A\n",
      "train:  46%|████▋     | 57/123 [00:15<00:17,  3.74it/s]\u001b[A\n",
      "train:  47%|████▋     | 58/123 [00:15<00:17,  3.74it/s]\u001b[A\n",
      "train:  48%|████▊     | 59/123 [00:15<00:17,  3.74it/s]\u001b[A\n",
      "train:  49%|████▉     | 60/123 [00:16<00:16,  3.74it/s]\u001b[A\n",
      "train:  50%|████▉     | 61/123 [00:16<00:16,  3.74it/s]\u001b[A\n",
      "train:  50%|█████     | 62/123 [00:16<00:16,  3.74it/s]\u001b[A\n",
      "train:  51%|█████     | 63/123 [00:16<00:16,  3.74it/s]\u001b[A\n",
      "train:  52%|█████▏    | 64/123 [00:17<00:15,  3.74it/s]\u001b[A\n",
      "train:  53%|█████▎    | 65/123 [00:17<00:15,  3.75it/s]\u001b[A\n",
      "train:  54%|█████▎    | 66/123 [00:17<00:15,  3.75it/s]\u001b[A\n",
      "train:  54%|█████▍    | 67/123 [00:17<00:14,  3.75it/s]\u001b[A\n",
      "train:  55%|█████▌    | 68/123 [00:18<00:14,  3.75it/s]\u001b[A\n",
      "train:  56%|█████▌    | 69/123 [00:18<00:14,  3.75it/s]\u001b[A\n",
      "train:  57%|█████▋    | 70/123 [00:18<00:14,  3.75it/s]\u001b[A\n",
      "train:  58%|█████▊    | 71/123 [00:18<00:13,  3.75it/s]\u001b[A\n",
      "train:  59%|█████▊    | 72/123 [00:19<00:13,  3.75it/s]\u001b[A\n",
      "train:  59%|█████▉    | 73/123 [00:19<00:13,  3.75it/s]\u001b[A\n",
      "train:  60%|██████    | 74/123 [00:19<00:13,  3.75it/s]\u001b[A\n",
      "train:  61%|██████    | 75/123 [00:20<00:12,  3.75it/s]\u001b[A\n",
      "train:  62%|██████▏   | 76/123 [00:20<00:12,  3.75it/s]\u001b[A\n",
      "train:  63%|██████▎   | 77/123 [00:20<00:12,  3.75it/s]\u001b[A\n",
      "train:  63%|██████▎   | 78/123 [00:20<00:11,  3.75it/s]\u001b[A\n",
      "train:  64%|██████▍   | 79/123 [00:21<00:11,  3.75it/s]\u001b[A\n",
      "train:  65%|██████▌   | 80/123 [00:21<00:11,  3.75it/s]\u001b[A\n",
      "train:  66%|██████▌   | 81/123 [00:21<00:11,  3.75it/s]\u001b[A\n",
      "train:  67%|██████▋   | 82/123 [00:21<00:10,  3.75it/s]\u001b[A\n",
      "train:  67%|██████▋   | 83/123 [00:22<00:10,  3.75it/s]\u001b[A\n",
      "train:  68%|██████▊   | 84/123 [00:22<00:10,  3.75it/s]\u001b[A\n",
      "train:  69%|██████▉   | 85/123 [00:22<00:10,  3.75it/s]\u001b[A\n",
      "train:  70%|██████▉   | 86/123 [00:22<00:09,  3.75it/s]\u001b[A\n",
      "train:  71%|███████   | 87/123 [00:23<00:09,  3.75it/s]\u001b[A\n",
      "train:  72%|███████▏  | 88/123 [00:23<00:09,  3.75it/s]\u001b[A\n",
      "train:  72%|███████▏  | 89/123 [00:23<00:09,  3.75it/s]\u001b[A\n",
      "train:  73%|███████▎  | 90/123 [00:23<00:08,  3.76it/s]\u001b[A\n",
      "train:  74%|███████▍  | 91/123 [00:24<00:08,  3.76it/s]\u001b[A\n",
      "train:  75%|███████▍  | 92/123 [00:24<00:08,  3.76it/s]\u001b[A\n",
      "train:  76%|███████▌  | 93/123 [00:24<00:07,  3.76it/s]\u001b[A\n",
      "train:  76%|███████▋  | 94/123 [00:25<00:07,  3.76it/s]\u001b[A\n",
      "train:  77%|███████▋  | 95/123 [00:25<00:07,  3.76it/s]\u001b[A\n",
      "train:  78%|███████▊  | 96/123 [00:25<00:07,  3.76it/s]\u001b[A\n",
      "train:  79%|███████▉  | 97/123 [00:25<00:06,  3.76it/s]\u001b[A\n",
      "train:  80%|███████▉  | 98/123 [00:26<00:06,  3.76it/s]\u001b[A\n",
      "train:  80%|████████  | 99/123 [00:26<00:06,  3.76it/s]\u001b[A\n",
      "train:  81%|████████▏ | 100/123 [00:26<00:06,  3.76it/s]\u001b[A\n",
      "train:  82%|████████▏ | 101/123 [00:26<00:05,  3.76it/s]\u001b[A\n",
      "train:  83%|████████▎ | 102/123 [00:27<00:05,  3.76it/s]\u001b[A\n",
      "train:  84%|████████▎ | 103/123 [00:27<00:05,  3.76it/s]\u001b[A\n",
      "train:  85%|████████▍ | 104/123 [00:27<00:05,  3.76it/s]\u001b[A\n",
      "train:  85%|████████▌ | 105/123 [00:27<00:04,  3.76it/s]\u001b[A\n",
      "train:  86%|████████▌ | 106/123 [00:28<00:04,  3.76it/s]\u001b[A\n",
      "train:  87%|████████▋ | 107/123 [00:28<00:04,  3.76it/s]\u001b[A\n",
      "train:  88%|████████▊ | 108/123 [00:28<00:03,  3.76it/s]\u001b[A\n",
      "train:  89%|████████▊ | 109/123 [00:29<00:03,  3.76it/s]\u001b[A\n",
      "train:  89%|████████▉ | 110/123 [00:29<00:03,  3.76it/s]\u001b[A"
     ]
    }
   ],
   "source": [
    "trainset = datasets[TRAINSET]\n",
    "valset = datasets[VALSET] if VALSET else None\n",
    "trainer.train(loss_fn, model, optimizer, trainset, scheduler=scheduler, valset=valset)"
   ]
  },
  {
   "cell_type": "markdown",
   "metadata": {},
   "source": [
    "# Make predictions"
   ]
  },
  {
   "cell_type": "code",
   "execution_count": null,
   "metadata": {},
   "outputs": [],
   "source": [
    "testset = datasets[TESTSET]\n",
    "trainer.predict(testset)"
   ]
  }
 ],
 "metadata": {
  "kernelspec": {
   "display_name": "Python 3",
   "language": "python",
   "name": "python3"
  },
  "language_info": {
   "codemirror_mode": {
    "name": "ipython",
    "version": 3
   },
   "file_extension": ".py",
   "mimetype": "text/x-python",
   "name": "python",
   "nbconvert_exporter": "python",
   "pygments_lexer": "ipython3",
   "version": "3.6.3"
  }
 },
 "nbformat": 4,
 "nbformat_minor": 2
}
